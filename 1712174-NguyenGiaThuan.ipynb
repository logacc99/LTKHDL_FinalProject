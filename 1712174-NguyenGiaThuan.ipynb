{
 "cells": [
  {
   "cell_type": "code",
   "execution_count": 1,
   "metadata": {
    "colab": {},
    "colab_type": "code",
    "id": "MsG0CJgqjD9T"
   },
   "outputs": [],
   "source": [
    "import numpy as np\n",
    "import pandas as pd\n",
    "import matplotlib.pyplot as plt\n",
    "plt.rcParams[\"font.family\"] = \"serif\""
   ]
  },
  {
   "cell_type": "markdown",
   "metadata": {},
   "source": [
    "# MÔ TẢ DỮ LIỆU:\n",
    "- Bộ dữ liệu được dùng trong bài này gồm 2 file: *WorldCupMatches.csv* và *WorldCups.csv* được mô tả chi tiết bên dưới.\n",
    "- Chủ đề : Các trận đấu World Cup từ năm 1930 - 2014\n",
    "- Dữ liệu được lấy từ kaggle.com (License: CC0: Public Domain)\n",
    "- Nguồn gốc của dữ liệu này là từ FIFA World Cup Archive website: https://www.fifa.com/fifa-tournaments/archive/"
   ]
  },
  {
   "cell_type": "markdown",
   "metadata": {},
   "source": [
    "![world_cup.jpg](world_cup.jpg)"
   ]
  },
  {
   "cell_type": "markdown",
   "metadata": {},
   "source": [
    "# KHÁM PHÁ DỮ LIỆU"
   ]
  },
  {
   "cell_type": "markdown",
   "metadata": {},
   "source": [
    "Đọc dữ liệu từ file WorldCupMatches.csv vào biến `match_data` và file WorldCups.csv vào biến `overall_data`"
   ]
  },
  {
   "cell_type": "code",
   "execution_count": 2,
   "metadata": {},
   "outputs": [],
   "source": [
    "match_data = pd.read_csv('WorldCupMatches.csv', encoding='ISO-8859-1')\n",
    "overall_data = pd.read_csv('WorldCups.csv')"
   ]
  },
  {
   "cell_type": "markdown",
   "metadata": {},
   "source": [
    "## Tìm hiểu dữ liệu trong file WorldCupMatches.csv"
   ]
  },
  {
   "cell_type": "code",
   "execution_count": 3,
   "metadata": {},
   "outputs": [
    {
     "data": {
      "text/html": [
       "<div>\n",
       "<style scoped>\n",
       "    .dataframe tbody tr th:only-of-type {\n",
       "        vertical-align: middle;\n",
       "    }\n",
       "\n",
       "    .dataframe tbody tr th {\n",
       "        vertical-align: top;\n",
       "    }\n",
       "\n",
       "    .dataframe thead th {\n",
       "        text-align: right;\n",
       "    }\n",
       "</style>\n",
       "<table border=\"1\" class=\"dataframe\">\n",
       "  <thead>\n",
       "    <tr style=\"text-align: right;\">\n",
       "      <th></th>\n",
       "      <th>Year</th>\n",
       "      <th>Datetime</th>\n",
       "      <th>Stage</th>\n",
       "      <th>Stadium</th>\n",
       "      <th>City</th>\n",
       "      <th>Home Team Name</th>\n",
       "      <th>Home Team Goals</th>\n",
       "      <th>Away Team Goals</th>\n",
       "      <th>Away Team Name</th>\n",
       "      <th>Win conditions</th>\n",
       "      <th>Attendance</th>\n",
       "      <th>Half-time Home Goals</th>\n",
       "      <th>Half-time Away Goals</th>\n",
       "      <th>Referee</th>\n",
       "      <th>Assistant 1</th>\n",
       "      <th>Assistant 2</th>\n",
       "      <th>RoundID</th>\n",
       "      <th>MatchID</th>\n",
       "      <th>Home Team Initials</th>\n",
       "      <th>Away Team Initials</th>\n",
       "    </tr>\n",
       "  </thead>\n",
       "  <tbody>\n",
       "    <tr>\n",
       "      <th>0</th>\n",
       "      <td>1930.0</td>\n",
       "      <td>13 Jul 1930 - 15:00</td>\n",
       "      <td>Group 1</td>\n",
       "      <td>Pocitos</td>\n",
       "      <td>Montevideo</td>\n",
       "      <td>France</td>\n",
       "      <td>4.0</td>\n",
       "      <td>1.0</td>\n",
       "      <td>Mexico</td>\n",
       "      <td></td>\n",
       "      <td>4444.0</td>\n",
       "      <td>3.0</td>\n",
       "      <td>0.0</td>\n",
       "      <td>LOMBARDI Domingo (URU)</td>\n",
       "      <td>CRISTOPHE Henry (BEL)</td>\n",
       "      <td>REGO Gilberto (BRA)</td>\n",
       "      <td>201.0</td>\n",
       "      <td>1096.0</td>\n",
       "      <td>FRA</td>\n",
       "      <td>MEX</td>\n",
       "    </tr>\n",
       "    <tr>\n",
       "      <th>1</th>\n",
       "      <td>1930.0</td>\n",
       "      <td>13 Jul 1930 - 15:00</td>\n",
       "      <td>Group 4</td>\n",
       "      <td>Parque Central</td>\n",
       "      <td>Montevideo</td>\n",
       "      <td>USA</td>\n",
       "      <td>3.0</td>\n",
       "      <td>0.0</td>\n",
       "      <td>Belgium</td>\n",
       "      <td></td>\n",
       "      <td>18346.0</td>\n",
       "      <td>2.0</td>\n",
       "      <td>0.0</td>\n",
       "      <td>MACIAS Jose (ARG)</td>\n",
       "      <td>MATEUCCI Francisco (URU)</td>\n",
       "      <td>WARNKEN Alberto (CHI)</td>\n",
       "      <td>201.0</td>\n",
       "      <td>1090.0</td>\n",
       "      <td>USA</td>\n",
       "      <td>BEL</td>\n",
       "    </tr>\n",
       "    <tr>\n",
       "      <th>2</th>\n",
       "      <td>1930.0</td>\n",
       "      <td>14 Jul 1930 - 12:45</td>\n",
       "      <td>Group 2</td>\n",
       "      <td>Parque Central</td>\n",
       "      <td>Montevideo</td>\n",
       "      <td>Yugoslavia</td>\n",
       "      <td>2.0</td>\n",
       "      <td>1.0</td>\n",
       "      <td>Brazil</td>\n",
       "      <td></td>\n",
       "      <td>24059.0</td>\n",
       "      <td>2.0</td>\n",
       "      <td>0.0</td>\n",
       "      <td>TEJADA Anibal (URU)</td>\n",
       "      <td>VALLARINO Ricardo (URU)</td>\n",
       "      <td>BALWAY Thomas (FRA)</td>\n",
       "      <td>201.0</td>\n",
       "      <td>1093.0</td>\n",
       "      <td>YUG</td>\n",
       "      <td>BRA</td>\n",
       "    </tr>\n",
       "  </tbody>\n",
       "</table>\n",
       "</div>"
      ],
      "text/plain": [
       "     Year              Datetime    Stage         Stadium         City  \\\n",
       "0  1930.0  13 Jul 1930 - 15:00   Group 1         Pocitos  Montevideo    \n",
       "1  1930.0  13 Jul 1930 - 15:00   Group 4  Parque Central  Montevideo    \n",
       "2  1930.0  14 Jul 1930 - 12:45   Group 2  Parque Central  Montevideo    \n",
       "\n",
       "  Home Team Name  Home Team Goals  Away Team Goals Away Team Name  \\\n",
       "0         France              4.0              1.0         Mexico   \n",
       "1            USA              3.0              0.0        Belgium   \n",
       "2     Yugoslavia              2.0              1.0         Brazil   \n",
       "\n",
       "  Win conditions  Attendance  Half-time Home Goals  Half-time Away Goals  \\\n",
       "0                     4444.0                   3.0                   0.0   \n",
       "1                    18346.0                   2.0                   0.0   \n",
       "2                    24059.0                   2.0                   0.0   \n",
       "\n",
       "                  Referee               Assistant 1            Assistant 2  \\\n",
       "0  LOMBARDI Domingo (URU)     CRISTOPHE Henry (BEL)    REGO Gilberto (BRA)   \n",
       "1       MACIAS Jose (ARG)  MATEUCCI Francisco (URU)  WARNKEN Alberto (CHI)   \n",
       "2     TEJADA Anibal (URU)   VALLARINO Ricardo (URU)    BALWAY Thomas (FRA)   \n",
       "\n",
       "   RoundID  MatchID Home Team Initials Away Team Initials  \n",
       "0    201.0   1096.0                FRA                MEX  \n",
       "1    201.0   1090.0                USA                BEL  \n",
       "2    201.0   1093.0                YUG                BRA  "
      ]
     },
     "execution_count": 3,
     "metadata": {},
     "output_type": "execute_result"
    }
   ],
   "source": [
    "match_data.head(3)"
   ]
  },
  {
   "cell_type": "code",
   "execution_count": 4,
   "metadata": {
    "scrolled": true
   },
   "outputs": [
    {
     "name": "stdout",
     "output_type": "stream",
     "text": [
      "<class 'pandas.core.frame.DataFrame'>\n",
      "RangeIndex: 4572 entries, 0 to 4571\n",
      "Data columns (total 20 columns):\n",
      " #   Column                Non-Null Count  Dtype  \n",
      "---  ------                --------------  -----  \n",
      " 0   Year                  852 non-null    float64\n",
      " 1   Datetime              852 non-null    object \n",
      " 2   Stage                 852 non-null    object \n",
      " 3   Stadium               852 non-null    object \n",
      " 4   City                  852 non-null    object \n",
      " 5   Home Team Name        852 non-null    object \n",
      " 6   Home Team Goals       852 non-null    float64\n",
      " 7   Away Team Goals       852 non-null    float64\n",
      " 8   Away Team Name        852 non-null    object \n",
      " 9   Win conditions        852 non-null    object \n",
      " 10  Attendance            850 non-null    float64\n",
      " 11  Half-time Home Goals  852 non-null    float64\n",
      " 12  Half-time Away Goals  852 non-null    float64\n",
      " 13  Referee               852 non-null    object \n",
      " 14  Assistant 1           852 non-null    object \n",
      " 15  Assistant 2           852 non-null    object \n",
      " 16  RoundID               852 non-null    float64\n",
      " 17  MatchID               852 non-null    float64\n",
      " 18  Home Team Initials    852 non-null    object \n",
      " 19  Away Team Initials    852 non-null    object \n",
      "dtypes: float64(8), object(12)\n",
      "memory usage: 714.5+ KB\n"
     ]
    }
   ],
   "source": [
    "match_data.info()"
   ]
  },
  {
   "cell_type": "markdown",
   "metadata": {},
   "source": [
    "File **WorldCupMatches.csv** chứa thông tin của những trận đấu đã diễn ra:<br>\n",
    "- Có 4572 dòng và 20 cột:<br>\n",
    "&emsp;&emsp;+ **Year**: năm diễn ra <br>\n",
    "&emsp;&emsp;+ **Datetime**: ngày giờ diễn ra trận đấu<br>\n",
    "&emsp;&emsp;+ **Stage**: loại vòng đấu<br>\n",
    "&emsp;&emsp;+ **Stadium**: sân vận động - nơi diễn ra trận đấu<br>\n",
    "&emsp;&emsp;+ **City**: thành phố diễn ra trận đấu<br>\n",
    "&emsp;&emsp;+ **Home Team Name**: tên đội nhà<br>\n",
    "&emsp;&emsp;+ **Home Team Goals**: số bàn thắng đội nhà ghi được<br>\n",
    "&emsp;&emsp;+ **Away Team Goals**: tên đội khách<br>\n",
    "&emsp;&emsp;+ **Away Team Name**: số bàn thắng đội khách ghi được<br>\n",
    "&emsp;&emsp;+ **Win conditions**: điều kiện thắng<br>\n",
    "&emsp;&emsp;+ **Attendance**: số lượng khán giả<br>\n",
    "&emsp;&emsp;+ **Half-time Home Goals**: số bàn thắng đội nhà ghi được trong hiệp 1<br>\n",
    "&emsp;&emsp;+ **Half-time Away Goals**: số bàn thắng đội khách ghi được trong hiệp 1<br>\n",
    "&emsp;&emsp;+ **Referee**: tên trọng tài<br>\n",
    "&emsp;&emsp;+ **Assistant 1**: trợ lí trọng tài 1<br>\n",
    "&emsp;&emsp;+ **Assistant 2**: trợ lí trọng tài 2<br>\n",
    "&emsp;&emsp;+ **RoundID**: số hiệu vòng đấu<br>\n",
    "&emsp;&emsp;+ **MatchID**: số hiệu trận đấu<br>\n",
    "&emsp;&emsp;+ **Home Team Initials**: viết tắt tên đội nhà<br>\n",
    "&emsp;&emsp;+ **Away Team Initials**: viết tắt tên đội khách<br>     "
   ]
  },
  {
   "cell_type": "markdown",
   "metadata": {},
   "source": [
    "### Giải quyết các vấn đề của dữ liệu"
   ]
  },
  {
   "cell_type": "markdown",
   "metadata": {},
   "source": [
    "- Hai cột **Home/Away Team Initials** và **Home/Away Team Name** về mặt ý nghĩa là như nhau. Vì vậy ta sẽ bỏ bớt hai cột **Home/Away Team Initials**:"
   ]
  },
  {
   "cell_type": "code",
   "execution_count": 5,
   "metadata": {},
   "outputs": [],
   "source": [
    "match_data.drop(['Home Team Initials', 'Away Team Initials'], inplace = True, axis = 1)"
   ]
  },
  {
   "cell_type": "code",
   "execution_count": 6,
   "metadata": {},
   "outputs": [
    {
     "data": {
      "text/plain": [
       "Index(['Year', 'Datetime', 'Stage', 'Stadium', 'City', 'Home Team Name',\n",
       "       'Home Team Goals', 'Away Team Goals', 'Away Team Name',\n",
       "       'Win conditions', 'Attendance', 'Half-time Home Goals',\n",
       "       'Half-time Away Goals', 'Referee', 'Assistant 1', 'Assistant 2',\n",
       "       'RoundID', 'MatchID'],\n",
       "      dtype='object')"
      ]
     },
     "execution_count": 6,
     "metadata": {},
     "output_type": "execute_result"
    }
   ],
   "source": [
    "match_data.columns"
   ]
  },
  {
   "cell_type": "markdown",
   "metadata": {},
   "source": [
    "- Chỉ có 852 dòng đầu tiên của dữ liệu có giá trị (các dòng còn lại đều là NaN), nên ta chỉ lấy 852 dòng đầu tiên:"
   ]
  },
  {
   "cell_type": "code",
   "execution_count": 7,
   "metadata": {},
   "outputs": [],
   "source": [
    "match_data = match_data[:852]"
   ]
  },
  {
   "cell_type": "code",
   "execution_count": 8,
   "metadata": {},
   "outputs": [
    {
     "data": {
      "text/plain": [
       "(852, 18)"
      ]
     },
     "execution_count": 8,
     "metadata": {},
     "output_type": "execute_result"
    }
   ],
   "source": [
    "match_data.shape"
   ]
  },
  {
   "cell_type": "markdown",
   "metadata": {},
   "source": [
    "- Dòng dữ liệu thứ 823 và 841 của cột **Attendance** bị thiếu giá trị. Ta sẽ fill vào đây những giá trị trung bình của cột này."
   ]
  },
  {
   "cell_type": "code",
   "execution_count": 9,
   "metadata": {
    "scrolled": false
   },
   "outputs": [
    {
     "data": {
      "text/html": [
       "<div>\n",
       "<style scoped>\n",
       "    .dataframe tbody tr th:only-of-type {\n",
       "        vertical-align: middle;\n",
       "    }\n",
       "\n",
       "    .dataframe tbody tr th {\n",
       "        vertical-align: top;\n",
       "    }\n",
       "\n",
       "    .dataframe thead th {\n",
       "        text-align: right;\n",
       "    }\n",
       "</style>\n",
       "<table border=\"1\" class=\"dataframe\">\n",
       "  <thead>\n",
       "    <tr style=\"text-align: right;\">\n",
       "      <th></th>\n",
       "      <th>Year</th>\n",
       "      <th>Datetime</th>\n",
       "      <th>Stage</th>\n",
       "      <th>Stadium</th>\n",
       "      <th>City</th>\n",
       "      <th>Home Team Name</th>\n",
       "      <th>Home Team Goals</th>\n",
       "      <th>Away Team Goals</th>\n",
       "      <th>Away Team Name</th>\n",
       "      <th>Win conditions</th>\n",
       "      <th>Attendance</th>\n",
       "      <th>Half-time Home Goals</th>\n",
       "      <th>Half-time Away Goals</th>\n",
       "      <th>Referee</th>\n",
       "      <th>Assistant 1</th>\n",
       "      <th>Assistant 2</th>\n",
       "      <th>RoundID</th>\n",
       "      <th>MatchID</th>\n",
       "    </tr>\n",
       "  </thead>\n",
       "  <tbody>\n",
       "    <tr>\n",
       "      <th>823</th>\n",
       "      <td>2014.0</td>\n",
       "      <td>30 Jun 2014 - 17:00</td>\n",
       "      <td>Round of 16</td>\n",
       "      <td>Estadio Beira-Rio</td>\n",
       "      <td>Porto Alegre</td>\n",
       "      <td>Germany</td>\n",
       "      <td>2.0</td>\n",
       "      <td>1.0</td>\n",
       "      <td>Algeria</td>\n",
       "      <td>Germany win after extra time</td>\n",
       "      <td>NaN</td>\n",
       "      <td>0.0</td>\n",
       "      <td>0.0</td>\n",
       "      <td>RICCI Sandro (BRA)</td>\n",
       "      <td>DE CARVALHO Emerson (BRA)</td>\n",
       "      <td>VAN GASSE Marcelo (BRA)</td>\n",
       "      <td>255951.0</td>\n",
       "      <td>300186460.0</td>\n",
       "    </tr>\n",
       "    <tr>\n",
       "      <th>841</th>\n",
       "      <td>2014.0</td>\n",
       "      <td>30 Jun 2014 - 17:00</td>\n",
       "      <td>Round of 16</td>\n",
       "      <td>Estadio Beira-Rio</td>\n",
       "      <td>Porto Alegre</td>\n",
       "      <td>Germany</td>\n",
       "      <td>2.0</td>\n",
       "      <td>1.0</td>\n",
       "      <td>Algeria</td>\n",
       "      <td>Germany win after extra time</td>\n",
       "      <td>NaN</td>\n",
       "      <td>0.0</td>\n",
       "      <td>0.0</td>\n",
       "      <td>RICCI Sandro (BRA)</td>\n",
       "      <td>DE CARVALHO Emerson (BRA)</td>\n",
       "      <td>VAN GASSE Marcelo (BRA)</td>\n",
       "      <td>255951.0</td>\n",
       "      <td>300186460.0</td>\n",
       "    </tr>\n",
       "  </tbody>\n",
       "</table>\n",
       "</div>"
      ],
      "text/plain": [
       "       Year              Datetime        Stage            Stadium  \\\n",
       "823  2014.0  30 Jun 2014 - 17:00   Round of 16  Estadio Beira-Rio   \n",
       "841  2014.0  30 Jun 2014 - 17:00   Round of 16  Estadio Beira-Rio   \n",
       "\n",
       "              City Home Team Name  Home Team Goals  Away Team Goals  \\\n",
       "823  Porto Alegre         Germany              2.0              1.0   \n",
       "841  Porto Alegre         Germany              2.0              1.0   \n",
       "\n",
       "    Away Team Name                 Win conditions  Attendance  \\\n",
       "823        Algeria  Germany win after extra time          NaN   \n",
       "841        Algeria  Germany win after extra time          NaN   \n",
       "\n",
       "     Half-time Home Goals  Half-time Away Goals             Referee  \\\n",
       "823                   0.0                   0.0  RICCI Sandro (BRA)   \n",
       "841                   0.0                   0.0  RICCI Sandro (BRA)   \n",
       "\n",
       "                   Assistant 1              Assistant 2   RoundID      MatchID  \n",
       "823  DE CARVALHO Emerson (BRA)  VAN GASSE Marcelo (BRA)  255951.0  300186460.0  \n",
       "841  DE CARVALHO Emerson (BRA)  VAN GASSE Marcelo (BRA)  255951.0  300186460.0  "
      ]
     },
     "execution_count": 9,
     "metadata": {},
     "output_type": "execute_result"
    }
   ],
   "source": [
    "match_data[match_data['Attendance'].isnull() == True]"
   ]
  },
  {
   "cell_type": "code",
   "execution_count": 10,
   "metadata": {},
   "outputs": [],
   "source": [
    "match_data['Attendance'].fillna(match_data['Attendance'].mean(),inplace = True)"
   ]
  },
  {
   "cell_type": "markdown",
   "metadata": {},
   "source": [
    "- Chuyển đổi kiểu dữ liệu của cột **Datetime** sang kiểu *datetime*:"
   ]
  },
  {
   "cell_type": "code",
   "execution_count": 11,
   "metadata": {},
   "outputs": [],
   "source": [
    "match_data['Datetime'] = pd.to_datetime(match_data['Datetime'])"
   ]
  },
  {
   "cell_type": "markdown",
   "metadata": {},
   "source": [
    "- Các cột kiểu số thực trong bảng dữ liệu này nên được chuyển thành số nguyên:"
   ]
  },
  {
   "cell_type": "code",
   "execution_count": 12,
   "metadata": {},
   "outputs": [],
   "source": [
    "for c in match_data.columns:\n",
    "    if match_data[c].dtypes == 'float64':\n",
    "        match_data[c] = match_data[c].astype('int64')"
   ]
  },
  {
   "cell_type": "markdown",
   "metadata": {},
   "source": [
    "- Hai cột **RoundID** và **MatchID** tuy có kiểu dữ liệu float64 nhưng về mặt ý nghĩa, chúng là các biến catergorical. Nên ta chuyển luôn về dạng chuỗi:"
   ]
  },
  {
   "cell_type": "code",
   "execution_count": 13,
   "metadata": {},
   "outputs": [],
   "source": [
    "match_data[['RoundID', 'MatchID']] = match_data[['RoundID', 'MatchID']].astype(str)"
   ]
  },
  {
   "cell_type": "markdown",
   "metadata": {},
   "source": [
    "### Miền giá trị của các cột numerical hoặc datetime"
   ]
  },
  {
   "cell_type": "markdown",
   "metadata": {},
   "source": [
    "- Các cột numerical: **Year**, **Home Team Goals**, **Away Team Goals**, **Attendance**, **Half-time Home Goals**, **Half-time Away Goals**. <br>\n",
    "- Các cột datetime: **Datetime** <br>"
   ]
  },
  {
   "cell_type": "code",
   "execution_count": 14,
   "metadata": {
    "scrolled": true
   },
   "outputs": [
    {
     "data": {
      "text/html": [
       "<div>\n",
       "<style scoped>\n",
       "    .dataframe tbody tr th:only-of-type {\n",
       "        vertical-align: middle;\n",
       "    }\n",
       "\n",
       "    .dataframe tbody tr th {\n",
       "        vertical-align: top;\n",
       "    }\n",
       "\n",
       "    .dataframe thead th {\n",
       "        text-align: right;\n",
       "    }\n",
       "</style>\n",
       "<table border=\"1\" class=\"dataframe\">\n",
       "  <thead>\n",
       "    <tr style=\"text-align: right;\">\n",
       "      <th></th>\n",
       "      <th>min</th>\n",
       "      <th>max</th>\n",
       "    </tr>\n",
       "  </thead>\n",
       "  <tbody>\n",
       "    <tr>\n",
       "      <th>Year</th>\n",
       "      <td>1930</td>\n",
       "      <td>2014</td>\n",
       "    </tr>\n",
       "    <tr>\n",
       "      <th>Datetime</th>\n",
       "      <td>1930-07-13 15:00:00</td>\n",
       "      <td>2014-07-13 16:00:00</td>\n",
       "    </tr>\n",
       "    <tr>\n",
       "      <th>Home Team Goals</th>\n",
       "      <td>0</td>\n",
       "      <td>10</td>\n",
       "    </tr>\n",
       "    <tr>\n",
       "      <th>Away Team Goals</th>\n",
       "      <td>0</td>\n",
       "      <td>7</td>\n",
       "    </tr>\n",
       "    <tr>\n",
       "      <th>Attendance</th>\n",
       "      <td>2000</td>\n",
       "      <td>173850</td>\n",
       "    </tr>\n",
       "    <tr>\n",
       "      <th>Half-time Home Goals</th>\n",
       "      <td>0</td>\n",
       "      <td>6</td>\n",
       "    </tr>\n",
       "    <tr>\n",
       "      <th>Half-time Away Goals</th>\n",
       "      <td>0</td>\n",
       "      <td>5</td>\n",
       "    </tr>\n",
       "  </tbody>\n",
       "</table>\n",
       "</div>"
      ],
      "text/plain": [
       "                                      min                  max\n",
       "Year                                 1930                 2014\n",
       "Datetime              1930-07-13 15:00:00  2014-07-13 16:00:00\n",
       "Home Team Goals                         0                   10\n",
       "Away Team Goals                         0                    7\n",
       "Attendance                           2000               173850\n",
       "Half-time Home Goals                    0                    6\n",
       "Half-time Away Goals                    0                    5"
      ]
     },
     "execution_count": 14,
     "metadata": {},
     "output_type": "execute_result"
    }
   ],
   "source": [
    "numerical_col = ['Year', 'Datetime', 'Home Team Goals', 'Away Team Goals', 'Attendance', 'Half-time Home Goals', 'Half-time Away Goals']\n",
    "col_ranges = pd.DataFrame(index = numerical_col, columns = ['min', 'max'])\n",
    "col_ranges.loc[:, 'min'] = match_data[numerical_col].min()\n",
    "col_ranges.loc[:, 'max'] = match_data[numerical_col].max()\n",
    "col_ranges"
   ]
  },
  {
   "cell_type": "markdown",
   "metadata": {},
   "source": [
    "### Các giá trị có thể có của các cột catergorical"
   ]
  },
  {
   "cell_type": "markdown",
   "metadata": {},
   "source": [
    "- Gồm các cột còn lại:"
   ]
  },
  {
   "cell_type": "code",
   "execution_count": 15,
   "metadata": {},
   "outputs": [
    {
     "data": {
      "text/html": [
       "<div>\n",
       "<style scoped>\n",
       "    .dataframe tbody tr th:only-of-type {\n",
       "        vertical-align: middle;\n",
       "    }\n",
       "\n",
       "    .dataframe tbody tr th {\n",
       "        vertical-align: top;\n",
       "    }\n",
       "\n",
       "    .dataframe thead th {\n",
       "        text-align: right;\n",
       "    }\n",
       "</style>\n",
       "<table border=\"1\" class=\"dataframe\">\n",
       "  <thead>\n",
       "    <tr style=\"text-align: right;\">\n",
       "      <th></th>\n",
       "      <th>Num. of Unique Values</th>\n",
       "      <th>3 First Values</th>\n",
       "    </tr>\n",
       "  </thead>\n",
       "  <tbody>\n",
       "    <tr>\n",
       "      <th>Stage</th>\n",
       "      <td>23</td>\n",
       "      <td>Final, First round, Group 1</td>\n",
       "    </tr>\n",
       "    <tr>\n",
       "      <th>Stadium</th>\n",
       "      <td>181</td>\n",
       "      <td>Arena Amazonia, Arena Fonte Nova, Arena Pantanal</td>\n",
       "    </tr>\n",
       "    <tr>\n",
       "      <th>City</th>\n",
       "      <td>151</td>\n",
       "      <td>Alicante , Antibes , Arica</td>\n",
       "    </tr>\n",
       "    <tr>\n",
       "      <th>Home Team Name</th>\n",
       "      <td>78</td>\n",
       "      <td>Algeria, Angola, Argentina</td>\n",
       "    </tr>\n",
       "    <tr>\n",
       "      <th>Away Team Name</th>\n",
       "      <td>83</td>\n",
       "      <td>Algeria, Angola, Argentina</td>\n",
       "    </tr>\n",
       "    <tr>\n",
       "      <th>Win conditions</th>\n",
       "      <td>43</td>\n",
       "      <td>,  win on penalties (2 - 3) ,  win on penalti...</td>\n",
       "    </tr>\n",
       "    <tr>\n",
       "      <th>Referee</th>\n",
       "      <td>366</td>\n",
       "      <td>ABD EL FATAH Essam (EGY), ADAIR John (NIR), AG...</td>\n",
       "    </tr>\n",
       "    <tr>\n",
       "      <th>Assistant 1</th>\n",
       "      <td>387</td>\n",
       "      <td>ABDUL HAMID Halim (MAS), ACHIK Redouane (MAR),...</td>\n",
       "    </tr>\n",
       "    <tr>\n",
       "      <th>Assistant 2</th>\n",
       "      <td>408</td>\n",
       "      <td>ABDUL HAMID Halim (MAS), ACKEBORN Gosta (SWE),...</td>\n",
       "    </tr>\n",
       "    <tr>\n",
       "      <th>RoundID</th>\n",
       "      <td>101</td>\n",
       "      <td>1014, 1024, 1025</td>\n",
       "    </tr>\n",
       "    <tr>\n",
       "      <th>MatchID</th>\n",
       "      <td>836</td>\n",
       "      <td>1012, 102, 103</td>\n",
       "    </tr>\n",
       "  </tbody>\n",
       "</table>\n",
       "</div>"
      ],
      "text/plain": [
       "                Num. of Unique Values  \\\n",
       "Stage                              23   \n",
       "Stadium                           181   \n",
       "City                              151   \n",
       "Home Team Name                     78   \n",
       "Away Team Name                     83   \n",
       "Win conditions                     43   \n",
       "Referee                           366   \n",
       "Assistant 1                       387   \n",
       "Assistant 2                       408   \n",
       "RoundID                           101   \n",
       "MatchID                           836   \n",
       "\n",
       "                                                   3 First Values  \n",
       "Stage                                 Final, First round, Group 1  \n",
       "Stadium          Arena Amazonia, Arena Fonte Nova, Arena Pantanal  \n",
       "City                                  Alicante , Antibes , Arica   \n",
       "Home Team Name                         Algeria, Angola, Argentina  \n",
       "Away Team Name                         Algeria, Angola, Argentina  \n",
       "Win conditions   ,  win on penalties (2 - 3) ,  win on penalti...  \n",
       "Referee         ABD EL FATAH Essam (EGY), ADAIR John (NIR), AG...  \n",
       "Assistant 1     ABDUL HAMID Halim (MAS), ACHIK Redouane (MAR),...  \n",
       "Assistant 2     ABDUL HAMID Halim (MAS), ACKEBORN Gosta (SWE),...  \n",
       "RoundID                                          1014, 1024, 1025  \n",
       "MatchID                                            1012, 102, 103  "
      ]
     },
     "execution_count": 15,
     "metadata": {},
     "output_type": "execute_result"
    }
   ],
   "source": [
    "cat_columns = ['Stage', 'Stadium', 'City', 'Home Team Name', 'Away Team Name','Win conditions','Referee',\\\n",
    "               'Assistant 1','Assistant 2', 'RoundID', 'MatchID']\n",
    "cat_col_ranges = pd.DataFrame(columns = ['Num. of Unique Values', '3 First Values'], index = cat_columns)\n",
    "cat_col_ranges.iloc[:, 0] = match_data[cat_columns].nunique()\n",
    "for x in cat_columns:\n",
    "    cat_col_ranges.loc[x, '3 First Values'] = ', '.join(list(np.sort(match_data[x].unique())[:3]))\n",
    "cat_col_ranges"
   ]
  },
  {
   "cell_type": "markdown",
   "metadata": {},
   "source": [
    "## Tìm hiểu dữ liệu trong file WorldCups.csv"
   ]
  },
  {
   "cell_type": "code",
   "execution_count": 16,
   "metadata": {},
   "outputs": [
    {
     "data": {
      "text/html": [
       "<div>\n",
       "<style scoped>\n",
       "    .dataframe tbody tr th:only-of-type {\n",
       "        vertical-align: middle;\n",
       "    }\n",
       "\n",
       "    .dataframe tbody tr th {\n",
       "        vertical-align: top;\n",
       "    }\n",
       "\n",
       "    .dataframe thead th {\n",
       "        text-align: right;\n",
       "    }\n",
       "</style>\n",
       "<table border=\"1\" class=\"dataframe\">\n",
       "  <thead>\n",
       "    <tr style=\"text-align: right;\">\n",
       "      <th></th>\n",
       "      <th>Year</th>\n",
       "      <th>Country</th>\n",
       "      <th>Winner</th>\n",
       "      <th>Runners-Up</th>\n",
       "      <th>Third</th>\n",
       "      <th>Fourth</th>\n",
       "      <th>GoalsScored</th>\n",
       "      <th>QualifiedTeams</th>\n",
       "      <th>MatchesPlayed</th>\n",
       "      <th>Attendance</th>\n",
       "    </tr>\n",
       "  </thead>\n",
       "  <tbody>\n",
       "    <tr>\n",
       "      <th>0</th>\n",
       "      <td>1930</td>\n",
       "      <td>Uruguay</td>\n",
       "      <td>Uruguay</td>\n",
       "      <td>Argentina</td>\n",
       "      <td>USA</td>\n",
       "      <td>Yugoslavia</td>\n",
       "      <td>70</td>\n",
       "      <td>13</td>\n",
       "      <td>18</td>\n",
       "      <td>590.549</td>\n",
       "    </tr>\n",
       "    <tr>\n",
       "      <th>1</th>\n",
       "      <td>1934</td>\n",
       "      <td>Italy</td>\n",
       "      <td>Italy</td>\n",
       "      <td>Czechoslovakia</td>\n",
       "      <td>Germany</td>\n",
       "      <td>Austria</td>\n",
       "      <td>70</td>\n",
       "      <td>16</td>\n",
       "      <td>17</td>\n",
       "      <td>363.000</td>\n",
       "    </tr>\n",
       "    <tr>\n",
       "      <th>2</th>\n",
       "      <td>1938</td>\n",
       "      <td>France</td>\n",
       "      <td>Italy</td>\n",
       "      <td>Hungary</td>\n",
       "      <td>Brazil</td>\n",
       "      <td>Sweden</td>\n",
       "      <td>84</td>\n",
       "      <td>15</td>\n",
       "      <td>18</td>\n",
       "      <td>375.700</td>\n",
       "    </tr>\n",
       "    <tr>\n",
       "      <th>3</th>\n",
       "      <td>1950</td>\n",
       "      <td>Brazil</td>\n",
       "      <td>Uruguay</td>\n",
       "      <td>Brazil</td>\n",
       "      <td>Sweden</td>\n",
       "      <td>Spain</td>\n",
       "      <td>88</td>\n",
       "      <td>13</td>\n",
       "      <td>22</td>\n",
       "      <td>1.045.246</td>\n",
       "    </tr>\n",
       "    <tr>\n",
       "      <th>4</th>\n",
       "      <td>1954</td>\n",
       "      <td>Switzerland</td>\n",
       "      <td>Germany FR</td>\n",
       "      <td>Hungary</td>\n",
       "      <td>Austria</td>\n",
       "      <td>Uruguay</td>\n",
       "      <td>140</td>\n",
       "      <td>16</td>\n",
       "      <td>26</td>\n",
       "      <td>768.607</td>\n",
       "    </tr>\n",
       "    <tr>\n",
       "      <th>5</th>\n",
       "      <td>1958</td>\n",
       "      <td>Sweden</td>\n",
       "      <td>Brazil</td>\n",
       "      <td>Sweden</td>\n",
       "      <td>France</td>\n",
       "      <td>Germany FR</td>\n",
       "      <td>126</td>\n",
       "      <td>16</td>\n",
       "      <td>35</td>\n",
       "      <td>819.810</td>\n",
       "    </tr>\n",
       "    <tr>\n",
       "      <th>6</th>\n",
       "      <td>1962</td>\n",
       "      <td>Chile</td>\n",
       "      <td>Brazil</td>\n",
       "      <td>Czechoslovakia</td>\n",
       "      <td>Chile</td>\n",
       "      <td>Yugoslavia</td>\n",
       "      <td>89</td>\n",
       "      <td>16</td>\n",
       "      <td>32</td>\n",
       "      <td>893.172</td>\n",
       "    </tr>\n",
       "    <tr>\n",
       "      <th>7</th>\n",
       "      <td>1966</td>\n",
       "      <td>England</td>\n",
       "      <td>England</td>\n",
       "      <td>Germany FR</td>\n",
       "      <td>Portugal</td>\n",
       "      <td>Soviet Union</td>\n",
       "      <td>89</td>\n",
       "      <td>16</td>\n",
       "      <td>32</td>\n",
       "      <td>1.563.135</td>\n",
       "    </tr>\n",
       "    <tr>\n",
       "      <th>8</th>\n",
       "      <td>1970</td>\n",
       "      <td>Mexico</td>\n",
       "      <td>Brazil</td>\n",
       "      <td>Italy</td>\n",
       "      <td>Germany FR</td>\n",
       "      <td>Uruguay</td>\n",
       "      <td>95</td>\n",
       "      <td>16</td>\n",
       "      <td>32</td>\n",
       "      <td>1.603.975</td>\n",
       "    </tr>\n",
       "    <tr>\n",
       "      <th>9</th>\n",
       "      <td>1974</td>\n",
       "      <td>Germany</td>\n",
       "      <td>Germany FR</td>\n",
       "      <td>Netherlands</td>\n",
       "      <td>Poland</td>\n",
       "      <td>Brazil</td>\n",
       "      <td>97</td>\n",
       "      <td>16</td>\n",
       "      <td>38</td>\n",
       "      <td>1.865.753</td>\n",
       "    </tr>\n",
       "    <tr>\n",
       "      <th>10</th>\n",
       "      <td>1978</td>\n",
       "      <td>Argentina</td>\n",
       "      <td>Argentina</td>\n",
       "      <td>Netherlands</td>\n",
       "      <td>Brazil</td>\n",
       "      <td>Italy</td>\n",
       "      <td>102</td>\n",
       "      <td>16</td>\n",
       "      <td>38</td>\n",
       "      <td>1.545.791</td>\n",
       "    </tr>\n",
       "    <tr>\n",
       "      <th>11</th>\n",
       "      <td>1982</td>\n",
       "      <td>Spain</td>\n",
       "      <td>Italy</td>\n",
       "      <td>Germany FR</td>\n",
       "      <td>Poland</td>\n",
       "      <td>France</td>\n",
       "      <td>146</td>\n",
       "      <td>24</td>\n",
       "      <td>52</td>\n",
       "      <td>2.109.723</td>\n",
       "    </tr>\n",
       "    <tr>\n",
       "      <th>12</th>\n",
       "      <td>1986</td>\n",
       "      <td>Mexico</td>\n",
       "      <td>Argentina</td>\n",
       "      <td>Germany FR</td>\n",
       "      <td>France</td>\n",
       "      <td>Belgium</td>\n",
       "      <td>132</td>\n",
       "      <td>24</td>\n",
       "      <td>52</td>\n",
       "      <td>2.394.031</td>\n",
       "    </tr>\n",
       "    <tr>\n",
       "      <th>13</th>\n",
       "      <td>1990</td>\n",
       "      <td>Italy</td>\n",
       "      <td>Germany FR</td>\n",
       "      <td>Argentina</td>\n",
       "      <td>Italy</td>\n",
       "      <td>England</td>\n",
       "      <td>115</td>\n",
       "      <td>24</td>\n",
       "      <td>52</td>\n",
       "      <td>2.516.215</td>\n",
       "    </tr>\n",
       "    <tr>\n",
       "      <th>14</th>\n",
       "      <td>1994</td>\n",
       "      <td>USA</td>\n",
       "      <td>Brazil</td>\n",
       "      <td>Italy</td>\n",
       "      <td>Sweden</td>\n",
       "      <td>Bulgaria</td>\n",
       "      <td>141</td>\n",
       "      <td>24</td>\n",
       "      <td>52</td>\n",
       "      <td>3.587.538</td>\n",
       "    </tr>\n",
       "    <tr>\n",
       "      <th>15</th>\n",
       "      <td>1998</td>\n",
       "      <td>France</td>\n",
       "      <td>France</td>\n",
       "      <td>Brazil</td>\n",
       "      <td>Croatia</td>\n",
       "      <td>Netherlands</td>\n",
       "      <td>171</td>\n",
       "      <td>32</td>\n",
       "      <td>64</td>\n",
       "      <td>2.785.100</td>\n",
       "    </tr>\n",
       "    <tr>\n",
       "      <th>16</th>\n",
       "      <td>2002</td>\n",
       "      <td>Korea/Japan</td>\n",
       "      <td>Brazil</td>\n",
       "      <td>Germany</td>\n",
       "      <td>Turkey</td>\n",
       "      <td>Korea Republic</td>\n",
       "      <td>161</td>\n",
       "      <td>32</td>\n",
       "      <td>64</td>\n",
       "      <td>2.705.197</td>\n",
       "    </tr>\n",
       "    <tr>\n",
       "      <th>17</th>\n",
       "      <td>2006</td>\n",
       "      <td>Germany</td>\n",
       "      <td>Italy</td>\n",
       "      <td>France</td>\n",
       "      <td>Germany</td>\n",
       "      <td>Portugal</td>\n",
       "      <td>147</td>\n",
       "      <td>32</td>\n",
       "      <td>64</td>\n",
       "      <td>3.359.439</td>\n",
       "    </tr>\n",
       "    <tr>\n",
       "      <th>18</th>\n",
       "      <td>2010</td>\n",
       "      <td>South Africa</td>\n",
       "      <td>Spain</td>\n",
       "      <td>Netherlands</td>\n",
       "      <td>Germany</td>\n",
       "      <td>Uruguay</td>\n",
       "      <td>145</td>\n",
       "      <td>32</td>\n",
       "      <td>64</td>\n",
       "      <td>3.178.856</td>\n",
       "    </tr>\n",
       "    <tr>\n",
       "      <th>19</th>\n",
       "      <td>2014</td>\n",
       "      <td>Brazil</td>\n",
       "      <td>Germany</td>\n",
       "      <td>Argentina</td>\n",
       "      <td>Netherlands</td>\n",
       "      <td>Brazil</td>\n",
       "      <td>171</td>\n",
       "      <td>32</td>\n",
       "      <td>64</td>\n",
       "      <td>3.386.810</td>\n",
       "    </tr>\n",
       "  </tbody>\n",
       "</table>\n",
       "</div>"
      ],
      "text/plain": [
       "    Year       Country      Winner      Runners-Up        Third  \\\n",
       "0   1930       Uruguay     Uruguay       Argentina          USA   \n",
       "1   1934         Italy       Italy  Czechoslovakia      Germany   \n",
       "2   1938        France       Italy         Hungary       Brazil   \n",
       "3   1950        Brazil     Uruguay          Brazil       Sweden   \n",
       "4   1954   Switzerland  Germany FR         Hungary      Austria   \n",
       "5   1958        Sweden      Brazil          Sweden       France   \n",
       "6   1962         Chile      Brazil  Czechoslovakia        Chile   \n",
       "7   1966       England     England      Germany FR     Portugal   \n",
       "8   1970        Mexico      Brazil           Italy   Germany FR   \n",
       "9   1974       Germany  Germany FR     Netherlands       Poland   \n",
       "10  1978     Argentina   Argentina     Netherlands       Brazil   \n",
       "11  1982         Spain       Italy      Germany FR       Poland   \n",
       "12  1986        Mexico   Argentina      Germany FR       France   \n",
       "13  1990         Italy  Germany FR       Argentina        Italy   \n",
       "14  1994           USA      Brazil           Italy       Sweden   \n",
       "15  1998        France      France          Brazil      Croatia   \n",
       "16  2002   Korea/Japan      Brazil         Germany       Turkey   \n",
       "17  2006       Germany       Italy          France      Germany   \n",
       "18  2010  South Africa       Spain     Netherlands      Germany   \n",
       "19  2014        Brazil     Germany       Argentina  Netherlands   \n",
       "\n",
       "            Fourth  GoalsScored  QualifiedTeams  MatchesPlayed Attendance  \n",
       "0       Yugoslavia           70              13             18    590.549  \n",
       "1          Austria           70              16             17    363.000  \n",
       "2           Sweden           84              15             18    375.700  \n",
       "3            Spain           88              13             22  1.045.246  \n",
       "4          Uruguay          140              16             26    768.607  \n",
       "5       Germany FR          126              16             35    819.810  \n",
       "6       Yugoslavia           89              16             32    893.172  \n",
       "7     Soviet Union           89              16             32  1.563.135  \n",
       "8          Uruguay           95              16             32  1.603.975  \n",
       "9           Brazil           97              16             38  1.865.753  \n",
       "10           Italy          102              16             38  1.545.791  \n",
       "11          France          146              24             52  2.109.723  \n",
       "12         Belgium          132              24             52  2.394.031  \n",
       "13         England          115              24             52  2.516.215  \n",
       "14        Bulgaria          141              24             52  3.587.538  \n",
       "15     Netherlands          171              32             64  2.785.100  \n",
       "16  Korea Republic          161              32             64  2.705.197  \n",
       "17        Portugal          147              32             64  3.359.439  \n",
       "18         Uruguay          145              32             64  3.178.856  \n",
       "19          Brazil          171              32             64  3.386.810  "
      ]
     },
     "execution_count": 16,
     "metadata": {},
     "output_type": "execute_result"
    }
   ],
   "source": [
    "overall_data"
   ]
  },
  {
   "cell_type": "code",
   "execution_count": 17,
   "metadata": {},
   "outputs": [
    {
     "name": "stdout",
     "output_type": "stream",
     "text": [
      "<class 'pandas.core.frame.DataFrame'>\n",
      "RangeIndex: 20 entries, 0 to 19\n",
      "Data columns (total 10 columns):\n",
      " #   Column          Non-Null Count  Dtype \n",
      "---  ------          --------------  ----- \n",
      " 0   Year            20 non-null     int64 \n",
      " 1   Country         20 non-null     object\n",
      " 2   Winner          20 non-null     object\n",
      " 3   Runners-Up      20 non-null     object\n",
      " 4   Third           20 non-null     object\n",
      " 5   Fourth          20 non-null     object\n",
      " 6   GoalsScored     20 non-null     int64 \n",
      " 7   QualifiedTeams  20 non-null     int64 \n",
      " 8   MatchesPlayed   20 non-null     int64 \n",
      " 9   Attendance      20 non-null     object\n",
      "dtypes: int64(4), object(6)\n",
      "memory usage: 1.7+ KB\n"
     ]
    }
   ],
   "source": [
    "overall_data.info()"
   ]
  },
  {
   "cell_type": "markdown",
   "metadata": {},
   "source": [
    "File **WorldCups.csv** chứa kết quả của những kì World Cup đã diễn ra:<br>\n",
    "- Có 20 dòng và 10 cột:<br>\n",
    "&emsp;&emsp;+ **Year**: năm diễn ra <br>\n",
    "&emsp;&emsp;+ **Country**: nước chủ nhà<br>\n",
    "&emsp;&emsp;+ **Winner**: đội vô địch<br>\n",
    "&emsp;&emsp;+ **Runners-Up**: đôi á quân<br>\n",
    "&emsp;&emsp;+ **Third**: đội về ba<br>\n",
    "&emsp;&emsp;+ **Fourth**: đội về tư<br>\n",
    "&emsp;&emsp;+ **GoalsScored**: tổng số bàn thắng được ghi<br>\n",
    "&emsp;&emsp;+ **QualifiedTeams**: tổng số đội tham dự<br>\n",
    "&emsp;&emsp;+ **MatchesPlayed**: tổng số trận đấu đã diễn ra<br>\n",
    "&emsp;&emsp;+ **Attendance**: tổng số khán giả<br>"
   ]
  },
  {
   "cell_type": "markdown",
   "metadata": {},
   "source": [
    "### Giải quyết các vấn đề của dữ liệu:"
   ]
  },
  {
   "cell_type": "markdown",
   "metadata": {},
   "source": [
    "- Cột **Attendance** hiện tại đang là kiểu *object*, nhưng về ý nghĩa cột này chỉ số lượng khán giả nên ta sẽ chuyển về kiểu số nguyên. Nhưng do những giá trị này có chứa dấu nhiều dấu \".\" nên thao tác này sẽ bị lỗi, nên trước tiên ta sẽ loại bỏ những dấu \".\" này bằng cách replace chúng thành những chuỗi rỗng rồi mới thực hiện chuyển đổi:"
   ]
  },
  {
   "cell_type": "code",
   "execution_count": 18,
   "metadata": {},
   "outputs": [],
   "source": [
    "overall_data['Attendance'] = overall_data['Attendance'].apply(lambda x: x.replace('.', ''))"
   ]
  },
  {
   "cell_type": "code",
   "execution_count": 19,
   "metadata": {},
   "outputs": [],
   "source": [
    "overall_data['Attendance'] = overall_data['Attendance'].astype('int64')"
   ]
  },
  {
   "cell_type": "markdown",
   "metadata": {},
   "source": [
    "### Miền giá trị của các cột numerical"
   ]
  },
  {
   "cell_type": "markdown",
   "metadata": {},
   "source": [
    "Gồm các cột: **Year**, **GoalsScored**, **QualifiedTeams**, **MatchesPlayed**, **Attendance** <br>"
   ]
  },
  {
   "cell_type": "code",
   "execution_count": 20,
   "metadata": {},
   "outputs": [
    {
     "data": {
      "text/html": [
       "<div>\n",
       "<style scoped>\n",
       "    .dataframe tbody tr th:only-of-type {\n",
       "        vertical-align: middle;\n",
       "    }\n",
       "\n",
       "    .dataframe tbody tr th {\n",
       "        vertical-align: top;\n",
       "    }\n",
       "\n",
       "    .dataframe thead th {\n",
       "        text-align: right;\n",
       "    }\n",
       "</style>\n",
       "<table border=\"1\" class=\"dataframe\">\n",
       "  <thead>\n",
       "    <tr style=\"text-align: right;\">\n",
       "      <th></th>\n",
       "      <th>min</th>\n",
       "      <th>max</th>\n",
       "    </tr>\n",
       "  </thead>\n",
       "  <tbody>\n",
       "    <tr>\n",
       "      <th>Year</th>\n",
       "      <td>1930</td>\n",
       "      <td>2014</td>\n",
       "    </tr>\n",
       "    <tr>\n",
       "      <th>GoalsScored</th>\n",
       "      <td>70</td>\n",
       "      <td>171</td>\n",
       "    </tr>\n",
       "    <tr>\n",
       "      <th>QualifiedTeams</th>\n",
       "      <td>13</td>\n",
       "      <td>32</td>\n",
       "    </tr>\n",
       "    <tr>\n",
       "      <th>MatchesPlayed</th>\n",
       "      <td>17</td>\n",
       "      <td>64</td>\n",
       "    </tr>\n",
       "    <tr>\n",
       "      <th>Attendance</th>\n",
       "      <td>363000</td>\n",
       "      <td>3587538</td>\n",
       "    </tr>\n",
       "  </tbody>\n",
       "</table>\n",
       "</div>"
      ],
      "text/plain": [
       "                   min      max\n",
       "Year              1930     2014\n",
       "GoalsScored         70      171\n",
       "QualifiedTeams      13       32\n",
       "MatchesPlayed       17       64\n",
       "Attendance      363000  3587538"
      ]
     },
     "execution_count": 20,
     "metadata": {},
     "output_type": "execute_result"
    }
   ],
   "source": [
    "numerical_col = ['Year', 'GoalsScored', 'QualifiedTeams', 'MatchesPlayed', 'Attendance']\n",
    "col_ranges = pd.DataFrame(index = numerical_col, columns = ['min', 'max'])\n",
    "col_ranges.loc[:, 'min'] = overall_data[numerical_col].min()\n",
    "col_ranges.loc[:, 'max'] = overall_data[numerical_col].max()\n",
    "col_ranges"
   ]
  },
  {
   "cell_type": "markdown",
   "metadata": {},
   "source": [
    "### Các giá trị có thể có của các cột catergorical"
   ]
  },
  {
   "cell_type": "markdown",
   "metadata": {},
   "source": [
    "- Gồm các cột còn lại:"
   ]
  },
  {
   "cell_type": "code",
   "execution_count": 21,
   "metadata": {},
   "outputs": [
    {
     "data": {
      "text/html": [
       "<div>\n",
       "<style scoped>\n",
       "    .dataframe tbody tr th:only-of-type {\n",
       "        vertical-align: middle;\n",
       "    }\n",
       "\n",
       "    .dataframe tbody tr th {\n",
       "        vertical-align: top;\n",
       "    }\n",
       "\n",
       "    .dataframe thead th {\n",
       "        text-align: right;\n",
       "    }\n",
       "</style>\n",
       "<table border=\"1\" class=\"dataframe\">\n",
       "  <thead>\n",
       "    <tr style=\"text-align: right;\">\n",
       "      <th></th>\n",
       "      <th>Num. of Unique Values</th>\n",
       "      <th>3 First Values</th>\n",
       "    </tr>\n",
       "  </thead>\n",
       "  <tbody>\n",
       "    <tr>\n",
       "      <th>Country</th>\n",
       "      <td>15</td>\n",
       "      <td>Argentina, Brazil, Chile</td>\n",
       "    </tr>\n",
       "    <tr>\n",
       "      <th>Winner</th>\n",
       "      <td>9</td>\n",
       "      <td>Argentina, Brazil, England</td>\n",
       "    </tr>\n",
       "    <tr>\n",
       "      <th>Runners-Up</th>\n",
       "      <td>10</td>\n",
       "      <td>Argentina, Brazil, Czechoslovakia</td>\n",
       "    </tr>\n",
       "    <tr>\n",
       "      <th>Third</th>\n",
       "      <td>14</td>\n",
       "      <td>Austria, Brazil, Chile</td>\n",
       "    </tr>\n",
       "    <tr>\n",
       "      <th>Fourth</th>\n",
       "      <td>16</td>\n",
       "      <td>Austria, Belgium, Brazil</td>\n",
       "    </tr>\n",
       "  </tbody>\n",
       "</table>\n",
       "</div>"
      ],
      "text/plain": [
       "            Num. of Unique Values                     3 First Values\n",
       "Country                        15           Argentina, Brazil, Chile\n",
       "Winner                          9         Argentina, Brazil, England\n",
       "Runners-Up                     10  Argentina, Brazil, Czechoslovakia\n",
       "Third                          14             Austria, Brazil, Chile\n",
       "Fourth                         16           Austria, Belgium, Brazil"
      ]
     },
     "execution_count": 21,
     "metadata": {},
     "output_type": "execute_result"
    }
   ],
   "source": [
    "cat_columns = ['Country', 'Winner', 'Runners-Up', 'Third', 'Fourth']\n",
    "cat_col_ranges = pd.DataFrame(columns = ['Num. of Unique Values', '3 First Values'], index = cat_columns)\n",
    "cat_col_ranges.iloc[:, 0] = overall_data[cat_columns].nunique()\n",
    "for x in cat_columns:\n",
    "    cat_col_ranges.loc[x, '3 First Values'] = ', '.join(list(np.sort(overall_data[x].unique())[:3]))\n",
    "cat_col_ranges"
   ]
  },
  {
   "cell_type": "markdown",
   "metadata": {},
   "source": [
    "# ĐƯA RA CÁC CÂU HỎI"
   ]
  },
  {
   "cell_type": "markdown",
   "metadata": {},
   "source": [
    "## 1. TOP CÁC QUỐC GIA CÓ THÀNH TÍCH TỔNG CAO NHẤT CÁC KÌ WORLD CUP?"
   ]
  },
  {
   "cell_type": "markdown",
   "metadata": {},
   "source": [
    "### Sử dụng dữ liệu trong file WorldCups.csv\n",
    "### a. Tiền xử lí dữ liệu: \n",
    "- Tạo 3 series `winners`, `runner_ups`, `third` (mỗi series có index là tên nước) đếm số lần các nước đạt top 3 từ 3 cột Winner, Runner-ups và Third.\n",
    "- Tạo 1 bảng dữ liệu `top3_df` (index là tên các nước, gồm 3 cột *Winner*, *Runners-Up*, *Third* được lấy giá trị từ 3 series trên).\n",
    "- Lúc này có 1 vài giá trị sẽ là NaN do không phải nước nào cũng đều đã từng nằm trong cả 3 thứ hạng -> fill những giá trị này bằng 0.\n",
    "- Tạo thêm cột **Total** cho `top3_df` bằng cách tính tổng 3 cột đã tính trước đó. Về mặt ý nghĩa, cột này cho biết **tổng số lần vào top 3 của mỗi nước**. \n",
    "- Sắp xếp giảm dần theo giá trị cột **Total**."
   ]
  },
  {
   "cell_type": "code",
   "execution_count": 22,
   "metadata": {},
   "outputs": [],
   "source": [
    "winners = overall_data['Winner'].value_counts()\n",
    "runner_ups = overall_data['Runners-Up'].value_counts()\n",
    "third = overall_data['Third'].value_counts()"
   ]
  },
  {
   "cell_type": "code",
   "execution_count": 23,
   "metadata": {},
   "outputs": [
    {
     "data": {
      "text/html": [
       "<div>\n",
       "<style scoped>\n",
       "    .dataframe tbody tr th:only-of-type {\n",
       "        vertical-align: middle;\n",
       "    }\n",
       "\n",
       "    .dataframe tbody tr th {\n",
       "        vertical-align: top;\n",
       "    }\n",
       "\n",
       "    .dataframe thead th {\n",
       "        text-align: right;\n",
       "    }\n",
       "</style>\n",
       "<table border=\"1\" class=\"dataframe\">\n",
       "  <thead>\n",
       "    <tr style=\"text-align: right;\">\n",
       "      <th></th>\n",
       "      <th>Winner</th>\n",
       "      <th>Runners-Up</th>\n",
       "      <th>Third</th>\n",
       "      <th>Total</th>\n",
       "    </tr>\n",
       "  </thead>\n",
       "  <tbody>\n",
       "    <tr>\n",
       "      <th>Brazil</th>\n",
       "      <td>5</td>\n",
       "      <td>2.0</td>\n",
       "      <td>2.0</td>\n",
       "      <td>9.0</td>\n",
       "    </tr>\n",
       "    <tr>\n",
       "      <th>Italy</th>\n",
       "      <td>4</td>\n",
       "      <td>2.0</td>\n",
       "      <td>1.0</td>\n",
       "      <td>7.0</td>\n",
       "    </tr>\n",
       "    <tr>\n",
       "      <th>Germany FR</th>\n",
       "      <td>3</td>\n",
       "      <td>3.0</td>\n",
       "      <td>1.0</td>\n",
       "      <td>7.0</td>\n",
       "    </tr>\n",
       "    <tr>\n",
       "      <th>Argentina</th>\n",
       "      <td>2</td>\n",
       "      <td>3.0</td>\n",
       "      <td>0.0</td>\n",
       "      <td>5.0</td>\n",
       "    </tr>\n",
       "    <tr>\n",
       "      <th>Germany</th>\n",
       "      <td>1</td>\n",
       "      <td>1.0</td>\n",
       "      <td>3.0</td>\n",
       "      <td>5.0</td>\n",
       "    </tr>\n",
       "    <tr>\n",
       "      <th>France</th>\n",
       "      <td>1</td>\n",
       "      <td>1.0</td>\n",
       "      <td>2.0</td>\n",
       "      <td>4.0</td>\n",
       "    </tr>\n",
       "    <tr>\n",
       "      <th>Uruguay</th>\n",
       "      <td>2</td>\n",
       "      <td>0.0</td>\n",
       "      <td>0.0</td>\n",
       "      <td>2.0</td>\n",
       "    </tr>\n",
       "    <tr>\n",
       "      <th>England</th>\n",
       "      <td>1</td>\n",
       "      <td>0.0</td>\n",
       "      <td>0.0</td>\n",
       "      <td>1.0</td>\n",
       "    </tr>\n",
       "    <tr>\n",
       "      <th>Spain</th>\n",
       "      <td>1</td>\n",
       "      <td>0.0</td>\n",
       "      <td>0.0</td>\n",
       "      <td>1.0</td>\n",
       "    </tr>\n",
       "  </tbody>\n",
       "</table>\n",
       "</div>"
      ],
      "text/plain": [
       "            Winner  Runners-Up  Third  Total\n",
       "Brazil           5         2.0    2.0    9.0\n",
       "Italy            4         2.0    1.0    7.0\n",
       "Germany FR       3         3.0    1.0    7.0\n",
       "Argentina        2         3.0    0.0    5.0\n",
       "Germany          1         1.0    3.0    5.0\n",
       "France           1         1.0    2.0    4.0\n",
       "Uruguay          2         0.0    0.0    2.0\n",
       "England          1         0.0    0.0    1.0\n",
       "Spain            1         0.0    0.0    1.0"
      ]
     },
     "execution_count": 23,
     "metadata": {},
     "output_type": "execute_result"
    }
   ],
   "source": [
    "top3_df = pd.DataFrame(index = winners.index, columns = ['Winner', 'Runners-Up', 'Third'])\n",
    "top3_df.iloc[:, 0] = winners[winners.index]\n",
    "top3_df.iloc[:, 1] = runner_ups[winners.index]\n",
    "top3_df.iloc[:, 2] = third[winners.index]\n",
    "top3_df.fillna(0, inplace = True)\n",
    "top3_df['Total'] = top3_df.values.sum(axis = 1)\n",
    "top3_df.sort_values(by = 'Total', ascending = False, inplace = True)\n",
    "top3_df"
   ]
  },
  {
   "cell_type": "markdown",
   "metadata": {},
   "source": [
    "### b. Phân tích dữ liệu:\n",
    "- Ta biểu diễn biến `top3_df` bằng biểu đồ cột chồng.\n",
    "- Ở đây ta chỉ biểu diễn các nước đã từng vô địch WC chứ không biểu diễn tất cả các dòng trong `top3_df`. Các nước này được lưu vào biến `championship`.\n",
    "- Mỗi nước sẽ được biểu diễn bằng một cột lớn có 3 cột con chồng lên nhau thể hiện cho số lần đạt hạng 1, hạng 2 và hạng 3. Đồng thời, chiều dài của cột lớn (tức là tổng 3 cột con) thể hiện số lần giành được huy chương của nước đó trong các kì world cup (tất nhiên nằm trong top 3 là sẽ có huy chương)\n",
    "- Từ biểu đồ trên ta có thể suy ra được nước nào có thành tích cao nhất qua các mùa World Cup."
   ]
  },
  {
   "cell_type": "code",
   "execution_count": 24,
   "metadata": {},
   "outputs": [
    {
     "data": {
      "text/plain": [
       "<matplotlib.legend.Legend at 0x7f49d001c630>"
      ]
     },
     "execution_count": 24,
     "metadata": {},
     "output_type": "execute_result"
    },
    {
     "data": {
      "image/png": "[encoded data removed]",
      "text/plain": [
       "<Figure size 1080x720 with 1 Axes>"
      ]
     },
     "metadata": {
      "needs_background": "light"
     },
     "output_type": "display_data"
    }
   ],
   "source": [
    "fig, ax = plt.subplots(figsize = (15, 10))\n",
    "championship = top3_df[top3_df['Winner'] >=1].index\n",
    "tmp = top3_df.loc[championship, :]\n",
    "ax.barh(tmp.index, tmp['Winner'], color = 'gold', label = 'Winner')\n",
    "ax.barh(tmp.index, tmp['Runners-Up'], left = tmp['Winner'], color = 'silver', label = 'Runners-Up')\n",
    "ax.barh(tmp.index, tmp['Third'], left = tmp['Winner'] + tmp['Runners-Up'], color = 'chocolate', label = 'Third')\n",
    "ax.set_title('Figure 1. COUNTRY WITH MOST WORLD CUP WINNERS', fontsize = 16)\n",
    "ax.legend()"
   ]
  },
  {
   "cell_type": "markdown",
   "metadata": {},
   "source": [
    "### c. Nhận xét:\n",
    "- Brazil, Ý và CHLB Đức là 3 quốc gia có số lần vô địch World Cup nhiều nhất, đồng thời cũng là 3 nước vào top 3 nhiều nhất các kì World Cup. Có thể thấy đây chính là 3 nước có thành tích cao nhất các mùa World Cup về mọi mặt.\n",
    "- Anh, Tây Ban Nha và Pháp đều có 1 lần vô địch World Cup. Tuy nhiên số lần vào top 3 của Pháp lại nhiều hơn hẳn so với 2 nước còn lại, thậm chí cao hơn cả Uruguay (đội từng có 2 lần vô địch, đang giữ vị trí thứ 4 trên BXH). Nên nhìn chung có thể đánh giá thực lực của Pháp là cao hơn so với các nước này."
   ]
  },
  {
   "cell_type": "markdown",
   "metadata": {},
   "source": [
    "## 2. QUỐC GIA NÀO GHI ĐƯỢC NHIỀU BÀN THẮNG NHẤT CÁC MÙA WORLD CUP?"
   ]
  },
  {
   "cell_type": "markdown",
   "metadata": {},
   "source": [
    "### Sử dụng dữ liệu trong file WorldCupMatches.csv\n",
    "### a. Tiền xử lí dữ liệu: \n",
    "- Tạo 2 biến `home_team`, `away_team` (index là tên các nước) bằng cách gom nhóm theo cột tương ứng. Các biến này lưu số bàn thắng ghi được của các nước khi chơi ở sân nhà và sân khách (lần lượt).\n",
    "- Tạo 1 bảng dữ liệu `goals` bằng cách merge 2 series trên lại với nhau. Tạo thêm 1 cột **Total** cho bảng dữ liệu này để tính tổng 2 cột trước đó. Cột này cho biến tổng số bàn thắng ghi được của các nước.\n",
    "- Lúc này có 1 vài giá trị sẽ là NaN -> fill những giá trị này bằng 0.\n",
    "- Sắp xếp `goals` giảm dần theo giá trị cột **Total**."
   ]
  },
  {
   "cell_type": "code",
   "execution_count": 25,
   "metadata": {},
   "outputs": [],
   "source": [
    "home_team = match_data[['Home Team Name', 'Home Team Goals']].groupby(['Home Team Name']).agg('sum')\n",
    "away_team = match_data[['Away Team Name', 'Away Team Goals']].groupby(['Away Team Name']).agg('sum')"
   ]
  },
  {
   "cell_type": "code",
   "execution_count": 26,
   "metadata": {},
   "outputs": [
    {
     "data": {
      "text/html": [
       "<div>\n",
       "<style scoped>\n",
       "    .dataframe tbody tr th:only-of-type {\n",
       "        vertical-align: middle;\n",
       "    }\n",
       "\n",
       "    .dataframe tbody tr th {\n",
       "        vertical-align: top;\n",
       "    }\n",
       "\n",
       "    .dataframe thead th {\n",
       "        text-align: right;\n",
       "    }\n",
       "</style>\n",
       "<table border=\"1\" class=\"dataframe\">\n",
       "  <thead>\n",
       "    <tr style=\"text-align: right;\">\n",
       "      <th></th>\n",
       "      <th>Home Team Goals</th>\n",
       "      <th>Away Team Goals</th>\n",
       "      <th>Total</th>\n",
       "    </tr>\n",
       "  </thead>\n",
       "  <tbody>\n",
       "    <tr>\n",
       "      <th>Brazil</th>\n",
       "      <td>180.0</td>\n",
       "      <td>45</td>\n",
       "      <td>225.0</td>\n",
       "    </tr>\n",
       "    <tr>\n",
       "      <th>Argentina</th>\n",
       "      <td>111.0</td>\n",
       "      <td>22</td>\n",
       "      <td>133.0</td>\n",
       "    </tr>\n",
       "    <tr>\n",
       "      <th>Germany FR</th>\n",
       "      <td>99.0</td>\n",
       "      <td>32</td>\n",
       "      <td>131.0</td>\n",
       "    </tr>\n",
       "    <tr>\n",
       "      <th>Italy</th>\n",
       "      <td>99.0</td>\n",
       "      <td>29</td>\n",
       "      <td>128.0</td>\n",
       "    </tr>\n",
       "    <tr>\n",
       "      <th>France</th>\n",
       "      <td>68.0</td>\n",
       "      <td>40</td>\n",
       "      <td>108.0</td>\n",
       "    </tr>\n",
       "    <tr>\n",
       "      <th>...</th>\n",
       "      <td>...</td>\n",
       "      <td>...</td>\n",
       "      <td>...</td>\n",
       "    </tr>\n",
       "    <tr>\n",
       "      <th>Dutch East Indies</th>\n",
       "      <td>0.0</td>\n",
       "      <td>0</td>\n",
       "      <td>0.0</td>\n",
       "    </tr>\n",
       "    <tr>\n",
       "      <th>China PR</th>\n",
       "      <td>0.0</td>\n",
       "      <td>0</td>\n",
       "      <td>0.0</td>\n",
       "    </tr>\n",
       "    <tr>\n",
       "      <th>Canada</th>\n",
       "      <td>0.0</td>\n",
       "      <td>0</td>\n",
       "      <td>0.0</td>\n",
       "    </tr>\n",
       "    <tr>\n",
       "      <th>Zaire</th>\n",
       "      <td>0.0</td>\n",
       "      <td>0</td>\n",
       "      <td>0.0</td>\n",
       "    </tr>\n",
       "    <tr>\n",
       "      <th>rn\"&gt;Trinidad and Tobago</th>\n",
       "      <td>0.0</td>\n",
       "      <td>0</td>\n",
       "      <td>0.0</td>\n",
       "    </tr>\n",
       "  </tbody>\n",
       "</table>\n",
       "<p>83 rows × 3 columns</p>\n",
       "</div>"
      ],
      "text/plain": [
       "                         Home Team Goals  Away Team Goals  Total\n",
       "Brazil                             180.0               45  225.0\n",
       "Argentina                          111.0               22  133.0\n",
       "Germany FR                          99.0               32  131.0\n",
       "Italy                               99.0               29  128.0\n",
       "France                              68.0               40  108.0\n",
       "...                                  ...              ...    ...\n",
       "Dutch East Indies                    0.0                0    0.0\n",
       "China PR                             0.0                0    0.0\n",
       "Canada                               0.0                0    0.0\n",
       "Zaire                                0.0                0    0.0\n",
       "rn\">Trinidad and Tobago              0.0                0    0.0\n",
       "\n",
       "[83 rows x 3 columns]"
      ]
     },
     "execution_count": 26,
     "metadata": {},
     "output_type": "execute_result"
    }
   ],
   "source": [
    "goals = home_team.merge(away_team, left_index = True, right_index = True, how = 'outer')\n",
    "goals['Total'] = goals.sum(axis = 1)\n",
    "goals.sort_values(ascending = False, inplace = True, by = 'Total')\n",
    "goals.fillna(0, inplace = True)\n",
    "goals"
   ]
  },
  {
   "cell_type": "markdown",
   "metadata": {},
   "source": [
    "### b. Phân tích dữ liệu:\n",
    "- Ta biểu diễn biến `goals` bằng biểu đồ cột chồng.\n",
    "- Ở đây ta chỉ biểu diễn top 10 các nước có nhiều bàn thắng nhất.\n",
    "- Mỗi nước sẽ được biểu diễn bằng một cột lớn có 2 cột con chồng lên nhau thể hiện cho số bàn thắng ghi được ở sân nhà và sân khách. Đồng thời, chiều dài của cột lớn (tức là tổng 2 cột con) thể hiện tổng số bàn thắng khi chơi ở cả 2 bên.\n",
    "- Từ biểu đồ trên ta có thể suy ra được nước nào ghi được nhiều bàn thắng nhất mùa World Cup."
   ]
  },
  {
   "cell_type": "code",
   "execution_count": 27,
   "metadata": {},
   "outputs": [
    {
     "data": {
      "text/plain": [
       "Text(0.5, 1.0, 'Figure 2. TOP COUNTRY HAS MOST GOALS AT WORLD CUP')"
      ]
     },
     "execution_count": 27,
     "metadata": {},
     "output_type": "execute_result"
    },
    {
     "data": {
      "image/png": "[encoded data removed]",
      "text/plain": [
       "<Figure size 1080x576 with 1 Axes>"
      ]
     },
     "metadata": {
      "needs_background": "light"
     },
     "output_type": "display_data"
    }
   ],
   "source": [
    "fig, ax = plt.subplots(figsize=(15, 8))\n",
    "ax.bar(goals.index[:10], goals['Home Team Goals'][:10], color = 'tomato', width = np.repeat(0.6, 10), label = 'Home Team Goals')\n",
    "ax.bar(goals.index[:10], goals['Away Team Goals'][:10], bottom = goals['Home Team Goals'][:10],\\\n",
    "       color = 'deepskyblue', width = np.repeat(0.6, 10), label = 'Away Team Goals')\n",
    "ax.set_ylabel('Number of goals')\n",
    "ax.legend()\n",
    "ax.set_title('Figure 2. TOP COUNTRY HAS MOST GOALS AT WORLD CUP', fontsize = 16)"
   ]
  },
  {
   "cell_type": "markdown",
   "metadata": {},
   "source": [
    "### c. Nhận xét\n",
    "- Brazil vẫn là nước ghi được nhiều bàn thắng nhất (không hổ danh là nhà vô địch). Ý, Đức và Argentina xếp tiếp theo, không có gì thay đổi quá nhiều so với thứ hạng số lần vô địch World Cup của các nước này. Từ đây ta có thể thấy các nước này luôn dẫn đầu các kì World Cup về mọi mặt.\n",
    "- Một điểm thú vị là có vẻ các đội tuyển thường ghi nhiều bàn thắng hơn khi chơi ở sân nhà."
   ]
  },
  {
   "cell_type": "markdown",
   "metadata": {},
   "source": [
    "### d. Thử xem phong độ của 3 nước dẫn đầu nào!"
   ]
  },
  {
   "cell_type": "code",
   "execution_count": 28,
   "metadata": {},
   "outputs": [],
   "source": [
    "def goals_calc(team_name):\n",
    "    matches = match_data[(match_data['Home Team Name'] == team_name) | (match_data['Away Team Name'] == team_name)].copy()\n",
    "    home_goals = matches[matches['Home Team Name'] == team_name][['Year','Home Team Goals']].groupby('Year').sum()\n",
    "    away_goals = matches[matches['Away Team Name'] == team_name][['Year', 'Away Team Goals']].groupby('Year').sum()\n",
    "    total_goals = home_goals.merge(away_goals, left_index = True, right_index = True, how = 'outer')\n",
    "    total_goals['Total'] = total_goals.sum(axis = 1)\n",
    "    return total_goals[['Total']]\n",
    "    "
   ]
  },
  {
   "cell_type": "code",
   "execution_count": 29,
   "metadata": {},
   "outputs": [
    {
     "data": {
      "text/plain": [
       "<matplotlib.legend.Legend at 0x7f49cbe184e0>"
      ]
     },
     "execution_count": 29,
     "metadata": {},
     "output_type": "execute_result"
    },
    {
     "data": {
      "image/png": "[encoded data removed]",
      "text/plain": [
       "<Figure size 1440x360 with 1 Axes>"
      ]
     },
     "metadata": {
      "needs_background": "light"
     },
     "output_type": "display_data"
    }
   ],
   "source": [
    "bra_goals, arg_goals, ger_goals = goals_calc('Brazil'), goals_calc('Argentina'), goals_calc('Germany FR')\n",
    "fig, ax = plt.subplots(figsize = (20,5 ))\n",
    "ax.set_xlabel('Year')\n",
    "ax.set_ylabel('Number of goals')\n",
    "ax.set_title('Figure 2.1. NUMBER OF GOALS OF BRAZIL, ARGENTINA AND GERMANY FR', fontsize = 16)\n",
    "ax.plot(bra_goals.index, bra_goals['Total'], color = 'green', label = 'Brazil')\n",
    "ax.plot(arg_goals.index, arg_goals['Total'], color = 'red', label = 'Argentina')\n",
    "ax.plot(ger_goals.index, ger_goals['Total'], color = 'blue', label = 'Germany FR')\n",
    "ax.legend()"
   ]
  },
  {
   "cell_type": "markdown",
   "metadata": {},
   "source": [
    "- Một đoạn code nho nhỏ để xem chi tiết số bàn thắng mà các đội dẫn đầu ghi được qua từng năm thì có vẻ phong độ của họ đều không ổn định cho lắm (ví dụ như Brazil, đỉnh cao là một mùa World Cup họ ghi được hơn 20 bàn thắng nhưng năm 1934 thì họ chỉ ghi được có 2 bàn). Điều này cho thấy chất lượng của những đội bóng này là không đồng đều qua các giai đoạn."
   ]
  },
  {
   "cell_type": "markdown",
   "metadata": {},
   "source": [
    "## 3. MÙA WORLD CUP NÀO CÓ LƯỢNG KHÁN GIẢ TRUNG BÌNH XEM CAO NHẤT?"
   ]
  },
  {
   "cell_type": "markdown",
   "metadata": {},
   "source": [
    "### Sử dụng dữ liệu trong file WorldCupMatches.csv\n",
    "### a. Tiền xử lí dữ liệu: \n",
    "- Trước hết, ta sẽ thống kê lượng khán giả trung bình qua từng mùa World Cup.\n",
    "- Tạo biến `avg_attendance` lưu số khán giả trung bình theo năm bằng cách gom nhóm bảng dữ liệu theo cột **Year** và dùng hàm gom nhóm là **mean**."
   ]
  },
  {
   "cell_type": "code",
   "execution_count": 30,
   "metadata": {},
   "outputs": [],
   "source": [
    "avg_attendance = match_data.groupby('Year').agg('mean')['Attendance']"
   ]
  },
  {
   "cell_type": "markdown",
   "metadata": {},
   "source": [
    "### b. Phân tích dữ liệu:\n",
    "- Ta biểu diễn biến `avg_attendance` bằng biểu đồ đường với trục hoành là các năm và trục tung là lượng khán giả xem trung bình của năm đó.\n",
    "- Từ biểu đồ trên ta có thể hình dung được sự thay đổi số lượng NHM World Cup qua các mùa."
   ]
  },
  {
   "cell_type": "code",
   "execution_count": 31,
   "metadata": {},
   "outputs": [
    {
     "data": {
      "text/plain": [
       "Text(2000, 65000, '\"year\" = 1994')"
      ]
     },
     "execution_count": 31,
     "metadata": {},
     "output_type": "execute_result"
    },
    {
     "data": {
      "image/png": "[encoded data removed]",
      "text/plain": [
       "<Figure size 720x360 with 1 Axes>"
      ]
     },
     "metadata": {
      "needs_background": "light"
     },
     "output_type": "display_data"
    }
   ],
   "source": [
    "fig, ax = plt.subplots(figsize = (10, 5))\n",
    "ax.plot(avg_attendance.index, avg_attendance, marker = 'o')\n",
    "ax.set_xlabel('Year')\n",
    "ax.set_ylabel('Attendance')\n",
    "ax.set_title('Figure 3. NUMBER OF PEOPLE HAVE WATCHED WORLD CUP', fontsize = 16)\n",
    "ax.annotate(s = '\"year\" = 1994', xy = (1995, 69000), xytext = (2000, 65000),\\\n",
    "            arrowprops = {'arrowstyle': '->'})\n"
   ]
  },
  {
   "cell_type": "markdown",
   "metadata": {},
   "source": [
    "### c. Nhận xét\n",
    "- Lượng khán giả xem World Cup biến đổi không đồng nhất qua các năm. Tuy nhiên con số này có vẻ càng ngày càng tăng chứng tỏ số lượng người hâm mộ bóng đá trên toàn thế giới ngày càng nhiều.\n",
    "- Đỉnh điểm là World Cup 1994 có lượng người xem trung bình cao nhất (gần 70.000 người) . Không biết năm này có trận siêu phẩm nào không hmm...?"
   ]
  },
  {
   "cell_type": "markdown",
   "metadata": {},
   "source": [
    "### d. Cùng xem World Cup 1994 nào!"
   ]
  },
  {
   "cell_type": "code",
   "execution_count": 32,
   "metadata": {
    "scrolled": true
   },
   "outputs": [
    {
     "data": {
      "text/html": [
       "<div>\n",
       "<style scoped>\n",
       "    .dataframe tbody tr th:only-of-type {\n",
       "        vertical-align: middle;\n",
       "    }\n",
       "\n",
       "    .dataframe tbody tr th {\n",
       "        vertical-align: top;\n",
       "    }\n",
       "\n",
       "    .dataframe thead th {\n",
       "        text-align: right;\n",
       "    }\n",
       "</style>\n",
       "<table border=\"1\" class=\"dataframe\">\n",
       "  <thead>\n",
       "    <tr style=\"text-align: right;\">\n",
       "      <th></th>\n",
       "      <th>Year</th>\n",
       "      <th>Country</th>\n",
       "      <th>Winner</th>\n",
       "      <th>Runners-Up</th>\n",
       "      <th>Third</th>\n",
       "      <th>Fourth</th>\n",
       "      <th>GoalsScored</th>\n",
       "      <th>QualifiedTeams</th>\n",
       "      <th>MatchesPlayed</th>\n",
       "      <th>Attendance</th>\n",
       "    </tr>\n",
       "  </thead>\n",
       "  <tbody>\n",
       "    <tr>\n",
       "      <th>14</th>\n",
       "      <td>1994</td>\n",
       "      <td>USA</td>\n",
       "      <td>Brazil</td>\n",
       "      <td>Italy</td>\n",
       "      <td>Sweden</td>\n",
       "      <td>Bulgaria</td>\n",
       "      <td>141</td>\n",
       "      <td>24</td>\n",
       "      <td>52</td>\n",
       "      <td>3587538</td>\n",
       "    </tr>\n",
       "  </tbody>\n",
       "</table>\n",
       "</div>"
      ],
      "text/plain": [
       "    Year Country  Winner Runners-Up   Third    Fourth  GoalsScored  \\\n",
       "14  1994     USA  Brazil      Italy  Sweden  Bulgaria          141   \n",
       "\n",
       "    QualifiedTeams  MatchesPlayed  Attendance  \n",
       "14              24             52     3587538  "
      ]
     },
     "execution_count": 32,
     "metadata": {},
     "output_type": "execute_result"
    }
   ],
   "source": [
    "overall_data[overall_data['Year'] == 1994]"
   ]
  },
  {
   "cell_type": "markdown",
   "metadata": {},
   "source": [
    "- Được tổ chức tại Mĩ với tổng số khoảng 3.5 triệu khán giả"
   ]
  },
  {
   "cell_type": "markdown",
   "metadata": {},
   "source": [
    "- 5 trận có lượng người xem cao nhất:"
   ]
  },
  {
   "cell_type": "code",
   "execution_count": 33,
   "metadata": {},
   "outputs": [
    {
     "data": {
      "text/html": [
       "<div>\n",
       "<style scoped>\n",
       "    .dataframe tbody tr th:only-of-type {\n",
       "        vertical-align: middle;\n",
       "    }\n",
       "\n",
       "    .dataframe tbody tr th {\n",
       "        vertical-align: top;\n",
       "    }\n",
       "\n",
       "    .dataframe thead th {\n",
       "        text-align: right;\n",
       "    }\n",
       "</style>\n",
       "<table border=\"1\" class=\"dataframe\">\n",
       "  <thead>\n",
       "    <tr style=\"text-align: right;\">\n",
       "      <th></th>\n",
       "      <th>Year</th>\n",
       "      <th>Datetime</th>\n",
       "      <th>Stage</th>\n",
       "      <th>Stadium</th>\n",
       "      <th>City</th>\n",
       "      <th>Home Team Name</th>\n",
       "      <th>Home Team Goals</th>\n",
       "      <th>Away Team Goals</th>\n",
       "      <th>Away Team Name</th>\n",
       "      <th>Win conditions</th>\n",
       "      <th>Attendance</th>\n",
       "      <th>Half-time Home Goals</th>\n",
       "      <th>Half-time Away Goals</th>\n",
       "      <th>Referee</th>\n",
       "      <th>Assistant 1</th>\n",
       "      <th>Assistant 2</th>\n",
       "      <th>RoundID</th>\n",
       "      <th>MatchID</th>\n",
       "    </tr>\n",
       "  </thead>\n",
       "  <tbody>\n",
       "    <tr>\n",
       "      <th>515</th>\n",
       "      <td>1994</td>\n",
       "      <td>1994-07-17 12:30:00</td>\n",
       "      <td>Final</td>\n",
       "      <td>Rose Bowl</td>\n",
       "      <td>Los Angeles</td>\n",
       "      <td>Brazil</td>\n",
       "      <td>0</td>\n",
       "      <td>0</td>\n",
       "      <td>Italy</td>\n",
       "      <td>Brazil win on penalties (3 - 2)</td>\n",
       "      <td>94194</td>\n",
       "      <td>0</td>\n",
       "      <td>0</td>\n",
       "      <td>PUHL Sandor (HUN)</td>\n",
       "      <td>ZARATE Venancio (PAR)</td>\n",
       "      <td>FANAEI Mohammad (IRN)</td>\n",
       "      <td>3459</td>\n",
       "      <td>3104</td>\n",
       "    </tr>\n",
       "    <tr>\n",
       "      <th>478</th>\n",
       "      <td>1994</td>\n",
       "      <td>1994-06-22 19:30:00</td>\n",
       "      <td>Group A</td>\n",
       "      <td>Rose Bowl</td>\n",
       "      <td>Los Angeles</td>\n",
       "      <td>USA</td>\n",
       "      <td>2</td>\n",
       "      <td>1</td>\n",
       "      <td>Colombia</td>\n",
       "      <td></td>\n",
       "      <td>93869</td>\n",
       "      <td>1</td>\n",
       "      <td>0</td>\n",
       "      <td>BALDAS Fabio (ITA)</td>\n",
       "      <td>RAMICONE Domenico (ITA)</td>\n",
       "      <td>RHARIB El Jilali Mohamed (MAR)</td>\n",
       "      <td>337</td>\n",
       "      <td>3063</td>\n",
       "    </tr>\n",
       "    <tr>\n",
       "      <th>488</th>\n",
       "      <td>1994</td>\n",
       "      <td>1994-06-26 16:00:00</td>\n",
       "      <td>Group A</td>\n",
       "      <td>Rose Bowl</td>\n",
       "      <td>Los Angeles</td>\n",
       "      <td>USA</td>\n",
       "      <td>0</td>\n",
       "      <td>1</td>\n",
       "      <td>Romania</td>\n",
       "      <td></td>\n",
       "      <td>93869</td>\n",
       "      <td>0</td>\n",
       "      <td>1</td>\n",
       "      <td>VAN DER ENDE Mario (NED)</td>\n",
       "      <td>DOLSTRA Jan (NED)</td>\n",
       "      <td>DUNSTER Gordon (AUS)</td>\n",
       "      <td>337</td>\n",
       "      <td>3073</td>\n",
       "    </tr>\n",
       "    <tr>\n",
       "      <th>471</th>\n",
       "      <td>1994</td>\n",
       "      <td>1994-06-19 19:30:00</td>\n",
       "      <td>Group B</td>\n",
       "      <td>Rose Bowl</td>\n",
       "      <td>Los Angeles</td>\n",
       "      <td>Cameroon</td>\n",
       "      <td>2</td>\n",
       "      <td>2</td>\n",
       "      <td>Sweden</td>\n",
       "      <td></td>\n",
       "      <td>93194</td>\n",
       "      <td>1</td>\n",
       "      <td>1</td>\n",
       "      <td>TEJADA NORIEGA Alberto (PER)</td>\n",
       "      <td>JAMES Douglas Micael (TRI)</td>\n",
       "      <td>AL GHATTAN Yousif Abdulla (BAH)</td>\n",
       "      <td>337</td>\n",
       "      <td>3056</td>\n",
       "    </tr>\n",
       "    <tr>\n",
       "      <th>513</th>\n",
       "      <td>1994</td>\n",
       "      <td>1994-07-13 16:30:00</td>\n",
       "      <td>Semi-finals</td>\n",
       "      <td>Rose Bowl</td>\n",
       "      <td>Los Angeles</td>\n",
       "      <td>Sweden</td>\n",
       "      <td>0</td>\n",
       "      <td>1</td>\n",
       "      <td>Brazil</td>\n",
       "      <td></td>\n",
       "      <td>91856</td>\n",
       "      <td>0</td>\n",
       "      <td>0</td>\n",
       "      <td>TORRES CADENA Jose Joaquin (COL)</td>\n",
       "      <td>MARTON Sandor (HUN)</td>\n",
       "      <td>MATTHYS Luc (BEL)</td>\n",
       "      <td>3461</td>\n",
       "      <td>3099</td>\n",
       "    </tr>\n",
       "  </tbody>\n",
       "</table>\n",
       "</div>"
      ],
      "text/plain": [
       "     Year            Datetime        Stage    Stadium          City  \\\n",
       "515  1994 1994-07-17 12:30:00        Final  Rose Bowl  Los Angeles    \n",
       "478  1994 1994-06-22 19:30:00      Group A  Rose Bowl  Los Angeles    \n",
       "488  1994 1994-06-26 16:00:00      Group A  Rose Bowl  Los Angeles    \n",
       "471  1994 1994-06-19 19:30:00      Group B  Rose Bowl  Los Angeles    \n",
       "513  1994 1994-07-13 16:30:00  Semi-finals  Rose Bowl  Los Angeles    \n",
       "\n",
       "    Home Team Name  Home Team Goals  Away Team Goals Away Team Name  \\\n",
       "515         Brazil                0                0          Italy   \n",
       "478            USA                2                1       Colombia   \n",
       "488            USA                0                1        Romania   \n",
       "471       Cameroon                2                2         Sweden   \n",
       "513         Sweden                0                1         Brazil   \n",
       "\n",
       "                       Win conditions  Attendance  Half-time Home Goals  \\\n",
       "515  Brazil win on penalties (3 - 2)        94194                     0   \n",
       "478                                         93869                     1   \n",
       "488                                         93869                     0   \n",
       "471                                         93194                     1   \n",
       "513                                         91856                     0   \n",
       "\n",
       "     Half-time Away Goals                           Referee  \\\n",
       "515                     0                 PUHL Sandor (HUN)   \n",
       "478                     0                BALDAS Fabio (ITA)   \n",
       "488                     1          VAN DER ENDE Mario (NED)   \n",
       "471                     1      TEJADA NORIEGA Alberto (PER)   \n",
       "513                     0  TORRES CADENA Jose Joaquin (COL)   \n",
       "\n",
       "                    Assistant 1                      Assistant 2 RoundID  \\\n",
       "515       ZARATE Venancio (PAR)            FANAEI Mohammad (IRN)    3459   \n",
       "478     RAMICONE Domenico (ITA)   RHARIB El Jilali Mohamed (MAR)     337   \n",
       "488           DOLSTRA Jan (NED)             DUNSTER Gordon (AUS)     337   \n",
       "471  JAMES Douglas Micael (TRI)  AL GHATTAN Yousif Abdulla (BAH)     337   \n",
       "513         MARTON Sandor (HUN)                MATTHYS Luc (BEL)    3461   \n",
       "\n",
       "    MatchID  \n",
       "515    3104  \n",
       "478    3063  \n",
       "488    3073  \n",
       "471    3056  \n",
       "513    3099  "
      ]
     },
     "execution_count": 33,
     "metadata": {},
     "output_type": "execute_result"
    }
   ],
   "source": [
    "match_data[match_data['Year'] == 1994].sort_values(by = 'Attendance', ascending = False)[:5]"
   ]
  },
  {
   "cell_type": "markdown",
   "metadata": {},
   "source": [
    "- Chung kết năm nay đúng là một trận siêu phẩm đáng xem giữa 2 ông lớn trong giới bóng đá thời điểm này là Brazil và Italy."
   ]
  },
  {
   "cell_type": "markdown",
   "metadata": {},
   "source": [
    "- Trừ trận chung kết thì 2 trận có lượt người xem nhiều tiếp theo đều có đội tuyển Mĩ tham gia, hơn nữa World Cup năm nay cũng được tổ chức tại Mĩ. Có lẽ nào World Cup năm nay có nhiều người xem là vì Mĩ là quốc gia đang sở hữu lượng NHM nhiều nhất giai đoạn này?"
   ]
  },
  {
   "cell_type": "markdown",
   "metadata": {},
   "source": [
    "# TỔNG KẾT"
   ]
  },
  {
   "cell_type": "markdown",
   "metadata": {},
   "source": [
    "- Một số khó khăn gặp phải: thiếu ý tưởng đề quyết định chủ đề của đồ án, dữ liệu tìm được chưa được mô tả một cách rõ ràng gây khó khăn trong việc khám phá dữ liệu, chưa tìm ra cách mã hóa một số kí tự đặc biệt trong dữ liệu.\n",
    "- Học hỏi thêm được nhiều cách xử lí dữ liệu mới, biết được nhiều nguồn để thu thập dữ liệu hơn, có thêm nhiều kinh nghiệm trong cách tiếp cận một bài toán phân tích dữ liệu. \n",
    "- Nếu có thêm thời gian, mình sẽ phân tích kĩ hơn về từng đội bóng (từng cầu thủ, HLV, chiến thuật,...) để tìm ra những điểm đặc trưng của từng đội tuyển."
   ]
  }
 ],
 "metadata": {
  "colab": {
   "name": "1712174-NguyenGiaThuan.ipynb",
   "provenance": []
  },
  "kernelspec": {
   "display_name": "Python 3",
   "language": "python",
   "name": "python3"
  },
  "language_info": {
   "codemirror_mode": {
    "name": "ipython",
    "version": 3
   },
   "file_extension": ".py",
   "mimetype": "text/x-python",
   "name": "python",
   "nbconvert_exporter": "python",
   "pygments_lexer": "ipython3",
   "version": "3.7.3"
  }
 },
 "nbformat": 4,
 "nbformat_minor": 1
}
